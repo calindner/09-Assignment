{
 "cells": [
  {
   "cell_type": "code",
   "execution_count": 1,
   "metadata": {},
   "outputs": [],
   "source": [
    "import pandas as pd\n",
    "import numpy as np\n",
    "import matplotlib.pyplot as plt\n",
    "import matplotlib.pyplot as plt; plt.rcdefaults()\n",
    "import sqlalchemy as db\n",
    "from sqlalchemy import *"
   ]
  },
  {
   "cell_type": "code",
   "execution_count": 2,
   "metadata": {
    "scrolled": false
   },
   "outputs": [],
   "source": [
    "engine = create_engine('postgresql://postgres:######################/09-Homework')\n",
    "connection = engine.connect()"
   ]
  },
  {
   "cell_type": "code",
   "execution_count": 3,
   "metadata": {},
   "outputs": [],
   "source": [
    "metadata = db.MetaData()\n",
    "ave_salaries = db.Table('ave_salaries', metadata, autoload=True, autoload_with=engine)"
   ]
  },
  {
   "cell_type": "code",
   "execution_count": 4,
   "metadata": {},
   "outputs": [],
   "source": [
    "#get Salary data from postgresql\n",
    "query = db.select([ave_salaries])\n",
    "ResultProxy = connection.execute(query)\n",
    "ResultSet = ResultProxy.fetchall()"
   ]
  },
  {
   "cell_type": "code",
   "execution_count": 19,
   "metadata": {},
   "outputs": [],
   "source": [
    "\n",
    "\n",
    "#put postgresql data into a DataFrame\n",
    "ave_salaries_df = pd.DataFrame(ResultSet)\n",
    "ave_salaries_df.columns = ResultSet[0].keys()\n",
    "\n",
    "\n",
    "ave_salaries_df['avgofsalary'] = ave_salaries_df['avgofsalary'].astype(np.int64)\n",
    "\n",
    "\n",
    "objects = ave_salaries_df['title']\n",
    "y_pos = np.arange(len(objects))\n",
    "performance = ave_salaries_df['avgofsalary']"
   ]
  },
  {
   "cell_type": "code",
   "execution_count": 20,
   "metadata": {},
   "outputs": [
    {
     "data": {
      "image/png": "[encoded data removed]",
      "text/plain": [
       "<Figure size 432x288 with 1 Axes>"
      ]
     },
     "metadata": {
      "needs_background": "light"
     },
     "output_type": "display_data"
    }
   ],
   "source": [
    "plt.bar(y_pos, performance , align='center', alpha=0.5, color=('pink', 'red','orange','yellow','green','blue','purple'))\n",
    "plt.xticks(y_pos, objects, rotation=90)\n",
    "plt.plot(figsize=(90,90))\n",
    "plt.title = \"Average Salary by Title\"\n",
    "plt.grid(axis = 'y')\n",
    "plt.tight_layout()\n",
    "plt.savefig('Salarybytitle.png')\n",
    "\n",
    "\n",
    "plt.show()"
   ]
  },
  {
   "cell_type": "code",
   "execution_count": null,
   "metadata": {},
   "outputs": [],
   "source": []
  }
 ],
 "metadata": {
  "kernelspec": {
   "display_name": "Python [conda env:PythonData] *",
   "language": "python",
   "name": "conda-env-PythonData-py"
  },
  "language_info": {
   "codemirror_mode": {
    "name": "ipython",
    "version": 3
   },
   "file_extension": ".py",
   "mimetype": "text/x-python",
   "name": "python",
   "nbconvert_exporter": "python",
   "pygments_lexer": "ipython3",
   "version": "3.6.8"
  }
 },
 "nbformat": 4,
 "nbformat_minor": 2
}
